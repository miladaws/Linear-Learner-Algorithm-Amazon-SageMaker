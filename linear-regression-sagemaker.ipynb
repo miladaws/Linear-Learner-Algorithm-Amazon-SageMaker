{
 "cells": [
  {
   "cell_type": "markdown",
   "id": "2c25d1ca-d101-4a1a-8d6e-e3190263dd36",
   "metadata": {},
   "source": [
    "# SECTION 1: IMPORT PYTHON LIBRARIES AND DATASET"
   ]
  },
  {
   "cell_type": "code",
   "execution_count": 2,
   "id": "352c7250-7d6b-47a5-b042-1d4339f85b86",
   "metadata": {},
   "outputs": [
    {
     "name": "stdout",
     "output_type": "stream",
     "text": [
      "Requirement already satisfied: seaborn in /usr/local/lib/python3.6/site-packages (0.11.2)\n",
      "Requirement already satisfied: pandas>=0.23 in /usr/local/lib/python3.6/site-packages (from seaborn) (1.1.5)\n",
      "Requirement already satisfied: matplotlib>=2.2 in /usr/local/lib/python3.6/site-packages (from seaborn) (3.3.4)\n",
      "Requirement already satisfied: scipy>=1.0 in /usr/local/lib/python3.6/site-packages (from seaborn) (1.5.4)\n",
      "Requirement already satisfied: numpy>=1.15 in /usr/local/lib/python3.6/site-packages (from seaborn) (1.19.5)\n",
      "Requirement already satisfied: pyparsing!=2.0.4,!=2.1.2,!=2.1.6,>=2.0.3 in /usr/local/lib/python3.6/site-packages (from matplotlib>=2.2->seaborn) (3.0.9)\n",
      "Requirement already satisfied: python-dateutil>=2.1 in /usr/local/lib/python3.6/site-packages (from matplotlib>=2.2->seaborn) (2.8.2)\n",
      "Requirement already satisfied: cycler>=0.10 in /usr/local/lib/python3.6/site-packages (from matplotlib>=2.2->seaborn) (0.11.0)\n",
      "Requirement already satisfied: pillow>=6.2.0 in /usr/local/lib/python3.6/site-packages (from matplotlib>=2.2->seaborn) (8.4.0)\n",
      "Requirement already satisfied: kiwisolver>=1.0.1 in /usr/local/lib/python3.6/site-packages (from matplotlib>=2.2->seaborn) (1.3.1)\n",
      "Requirement already satisfied: pytz>=2017.2 in /usr/local/lib/python3.6/site-packages (from pandas>=0.23->seaborn) (2022.5)\n",
      "Requirement already satisfied: six>=1.5 in /usr/local/lib/python3.6/site-packages (from python-dateutil>=2.1->matplotlib>=2.2->seaborn) (1.16.0)\n",
      "\u001b[33mWARNING: You are using pip version 21.0.1; however, version 21.3.1 is available.\n",
      "You should consider upgrading via the '/usr/local/bin/python -m pip install --upgrade pip' command.\u001b[0m\n"
     ]
    }
   ],
   "source": [
    "# install seaborn library\n",
    "!pip install seaborn\n",
    "import pandas as pd\n",
    "import seaborn as sb\n",
    "import numpy as np\n",
    "import matplotlib.pyplot as plt"
   ]
  },
  {
   "cell_type": "code",
   "execution_count": 3,
   "id": "a81455e5-2374-4e7e-bc61-4a966310f5ec",
   "metadata": {},
   "outputs": [],
   "source": [
    "# load the salary dataset\n",
    "salary_df = pd.read_csv('salary-data.csv')"
   ]
  },
  {
   "cell_type": "code",
   "execution_count": 4,
   "id": "be923c7e-d8e4-4e58-a0eb-3f41b94c3a34",
   "metadata": {},
   "outputs": [
    {
     "name": "stdout",
     "output_type": "stream",
     "text": [
      "<class 'pandas.core.frame.DataFrame'>\n",
      "RangeIndex: 30 entries, 0 to 29\n",
      "Data columns (total 2 columns):\n",
      " #   Column           Non-Null Count  Dtype  \n",
      "---  ------           --------------  -----  \n",
      " 0   YearsExperience  30 non-null     float64\n",
      " 1   Salary           30 non-null     float64\n",
      "dtypes: float64(2)\n",
      "memory usage: 608.0 bytes\n"
     ]
    }
   ],
   "source": [
    "salary_df.info()"
   ]
  },
  {
   "cell_type": "markdown",
   "id": "e72869cf-f516-4aa6-a2a8-7728cd54ae10",
   "metadata": {},
   "source": [
    "# SECTION 2: PERFORM DATA ANALYSIS AND DATA VISUALIZATION"
   ]
  },
  {
   "cell_type": "code",
   "execution_count": 5,
   "id": "7797aedc-b3aa-4b95-a990-eeced9fca1ff",
   "metadata": {},
   "outputs": [
    {
     "data": {
      "text/plain": [
       "<AxesSubplot:>"
      ]
     },
     "execution_count": 5,
     "metadata": {},
     "output_type": "execute_result"
    },
    {
     "data": {
      "image/png": "[encoded data removed]",
      "text/plain": [
       "<Figure size 432x288 with 1 Axes>"
      ]
     },
     "metadata": {
      "needs_background": "light"
     },
     "output_type": "display_data"
    }
   ],
   "source": [
    "# Check if there is a null value in the dataset\n",
    "sb.heatmap(salary_df.isnull(), yticklabels = False, cbar = False, cmap=\"Blues\")"
   ]
  },
  {
   "cell_type": "code",
   "execution_count": 6,
   "id": "30fe916d-c058-43b8-af67-22b3c2e627f9",
   "metadata": {},
   "outputs": [
    {
     "data": {
      "text/plain": [
       "(30, 2)"
      ]
     },
     "execution_count": 6,
     "metadata": {},
     "output_type": "execute_result"
    }
   ],
   "source": [
    "salary_df.shape"
   ]
  },
  {
   "cell_type": "code",
   "execution_count": 7,
   "id": "b504b9ba-c361-48f5-8c07-a7e379591fdb",
   "metadata": {},
   "outputs": [
    {
     "data": {
      "text/html": [
       "<div>\n",
       "<style scoped>\n",
       "    .dataframe tbody tr th:only-of-type {\n",
       "        vertical-align: middle;\n",
       "    }\n",
       "\n",
       "    .dataframe tbody tr th {\n",
       "        vertical-align: top;\n",
       "    }\n",
       "\n",
       "    .dataframe thead th {\n",
       "        text-align: right;\n",
       "    }\n",
       "</style>\n",
       "<table border=\"1\" class=\"dataframe\">\n",
       "  <thead>\n",
       "    <tr style=\"text-align: right;\">\n",
       "      <th></th>\n",
       "      <th>YearsExperience</th>\n",
       "      <th>Salary</th>\n",
       "    </tr>\n",
       "  </thead>\n",
       "  <tbody>\n",
       "    <tr>\n",
       "      <th>count</th>\n",
       "      <td>30.000000</td>\n",
       "      <td>30.000000</td>\n",
       "    </tr>\n",
       "    <tr>\n",
       "      <th>mean</th>\n",
       "      <td>5.313333</td>\n",
       "      <td>76003.000000</td>\n",
       "    </tr>\n",
       "    <tr>\n",
       "      <th>std</th>\n",
       "      <td>2.837888</td>\n",
       "      <td>27414.429785</td>\n",
       "    </tr>\n",
       "    <tr>\n",
       "      <th>min</th>\n",
       "      <td>1.100000</td>\n",
       "      <td>37731.000000</td>\n",
       "    </tr>\n",
       "    <tr>\n",
       "      <th>25%</th>\n",
       "      <td>3.200000</td>\n",
       "      <td>56720.750000</td>\n",
       "    </tr>\n",
       "    <tr>\n",
       "      <th>50%</th>\n",
       "      <td>4.700000</td>\n",
       "      <td>65237.000000</td>\n",
       "    </tr>\n",
       "    <tr>\n",
       "      <th>75%</th>\n",
       "      <td>7.700000</td>\n",
       "      <td>100544.750000</td>\n",
       "    </tr>\n",
       "    <tr>\n",
       "      <th>max</th>\n",
       "      <td>10.500000</td>\n",
       "      <td>122391.000000</td>\n",
       "    </tr>\n",
       "  </tbody>\n",
       "</table>\n",
       "</div>"
      ],
      "text/plain": [
       "       YearsExperience         Salary\n",
       "count        30.000000      30.000000\n",
       "mean          5.313333   76003.000000\n",
       "std           2.837888   27414.429785\n",
       "min           1.100000   37731.000000\n",
       "25%           3.200000   56720.750000\n",
       "50%           4.700000   65237.000000\n",
       "75%           7.700000  100544.750000\n",
       "max          10.500000  122391.000000"
      ]
     },
     "execution_count": 7,
     "metadata": {},
     "output_type": "execute_result"
    }
   ],
   "source": [
    "salary_df.describe()"
   ]
  },
  {
   "cell_type": "code",
   "execution_count": 8,
   "id": "e22c2838-c4ff-499a-a4f3-5f9d251da5f3",
   "metadata": {},
   "outputs": [
    {
     "data": {
      "image/png": "[encoded data removed]",
      "text/plain": [
       "<Figure size 432x288 with 2 Axes>"
      ]
     },
     "metadata": {
      "needs_background": "light"
     },
     "output_type": "display_data"
    }
   ],
   "source": [
    "# Check the correlatio of the data\n",
    "corr_matrix = salary_df.corr()\n",
    "sb.heatmap(corr_matrix, annot = True)\n",
    "plt.show()"
   ]
  },
  {
   "cell_type": "code",
   "execution_count": 9,
   "id": "833372d0-521c-49af-9736-7f74e0ff1452",
   "metadata": {},
   "outputs": [
    {
     "data": {
      "text/plain": [
       "<AxesSubplot:xlabel='YearsExperience', ylabel='Salary'>"
      ]
     },
     "execution_count": 9,
     "metadata": {},
     "output_type": "execute_result"
    },
    {
     "data": {
      "image/png": "[encoded data removed]",
      "text/plain": [
       "<Figure size 432x288 with 1 Axes>"
      ]
     },
     "metadata": {
      "needs_background": "light"
     },
     "output_type": "display_data"
    }
   ],
   "source": [
    "# Plot data and a linear regression model fit\n",
    "sb.regplot(x = salary_df['YearsExperience'], y = salary_df['Salary'], data = salary_df)"
   ]
  },
  {
   "cell_type": "markdown",
   "id": "fca57098-ec1c-4ada-853a-9591b1b53a84",
   "metadata": {},
   "source": [
    "# SECTION 3: CREATE TRAINING AND TESTING DATASET"
   ]
  },
  {
   "cell_type": "code",
   "execution_count": null,
   "id": "33dfbf1e-b30e-4c34-85d6-d555be821b41",
   "metadata": {},
   "outputs": [],
   "source": [
    "X = salary_df[['YearsExperience']]\n",
    "y = salary_df[['Salary']]"
   ]
  },
  {
   "cell_type": "code",
   "execution_count": null,
   "id": "a262a455-cc3c-4e61-a8b0-62f5c1243405",
   "metadata": {},
   "outputs": [],
   "source": [
    "X.shape"
   ]
  },
  {
   "cell_type": "code",
   "execution_count": null,
   "id": "6bf9eb46-925a-4bd6-9d3d-2d7fd7c426d4",
   "metadata": {
    "tags": []
   },
   "outputs": [],
   "source": [
    "y.shape"
   ]
  },
  {
   "cell_type": "code",
   "execution_count": null,
   "id": "c495a6c5-8d68-4fc6-898f-b65e59e3aa4a",
   "metadata": {},
   "outputs": [],
   "source": [
    "# Set the datatype into float32\n",
    "X = np.array(X).astype('float32')\n",
    "y = np.array(y).astype('float32')"
   ]
  },
  {
   "cell_type": "code",
   "execution_count": null,
   "id": "3ed65ab2-0cae-41fb-9153-603ab35223bd",
   "metadata": {},
   "outputs": [],
   "source": [
    "X"
   ]
  },
  {
   "cell_type": "code",
   "execution_count": null,
   "id": "5eb80494-8b0a-4b7d-8ed2-db4bc3239853",
   "metadata": {},
   "outputs": [],
   "source": [
    "y"
   ]
  },
  {
   "cell_type": "code",
   "execution_count": null,
   "id": "4a89b537-06ff-4fb8-b241-c8895a1624e2",
   "metadata": {},
   "outputs": [],
   "source": [
    "# split the data into training and test sets\n",
    "!pip install scikit-learn\n",
    "from sklearn.model_selection import train_test_split\n",
    "\n",
    "X_train, X_test, y_train, y_test = train_test_split(X, y, test_size = 0.2)"
   ]
  },
  {
   "cell_type": "markdown",
   "id": "950629f7-f6ee-442a-96b0-7ba6d7bf2d41",
   "metadata": {},
   "source": [
    "# SECTION 4: TRAIN A LINEAR LEARNER MODEL USING SAGEMAKER"
   ]
  },
  {
   "cell_type": "code",
   "execution_count": null,
   "id": "a810dd3f-89cd-43ea-86f5-e9adb4ba5606",
   "metadata": {
    "tags": []
   },
   "outputs": [],
   "source": [
    "# Boto3 is Amazon Web Services (AWS) Software Development kit (SDK) for Python \n",
    "\n",
    "import boto3\n",
    "import sagemaker\n",
    "from sagemaker import Session\n",
    "\n",
    "# Let's create a SageMaker session\n",
    "sagemaker_session = sagemaker.Session()\n",
    "\n",
    "# Define the bucket and prefix that will be used for training purposes (Bucket has to be created in S3 manually)\n",
    "# prefix is the subfolder is the S3 bucket\n",
    "bucket = 'milad-sagemaker-linear-bucket'\n",
    "prefix = 'linear-learner'\n",
    "\n",
    "# Create the execution role for the instance to access/write in S3 bucket\n",
    "sagemaker_role = sagemaker.get_execution_role()\n",
    "print(sagemaker_role)"
   ]
  },
  {
   "cell_type": "code",
   "execution_count": null,
   "id": "99559721-57b9-401b-9c0f-669b3cb3c65d",
   "metadata": {},
   "outputs": [],
   "source": [
    "X_train.shape"
   ]
  },
  {
   "cell_type": "code",
   "execution_count": null,
   "id": "be0fb64b-dfc0-4c2f-a74c-8dc236181c3e",
   "metadata": {},
   "outputs": [],
   "source": [
    "# convert y_train into vector\n",
    "y_train = y_train[:,0]"
   ]
  },
  {
   "cell_type": "code",
   "execution_count": null,
   "id": "00587df0-0748-4049-8ce1-348d4bd5908b",
   "metadata": {},
   "outputs": [],
   "source": [
    "y_train.shape"
   ]
  },
  {
   "cell_type": "code",
   "execution_count": null,
   "id": "28cbb89f-c141-43e0-af83-8839559aa2cc",
   "metadata": {},
   "outputs": [],
   "source": [
    "# Required format for SageMaker is RecordIO, therefore the numpy array has to be converted into RecordIO format\n",
    "# The code in this cell cis to  convert the data in numpy array format to RecordIO format in order to be send as input into SageMaker\n",
    "# This is the format required by Sagemaker Linear Learner \n",
    "\n",
    "# IO is a module to deal with various typoes of I/O \n",
    "# sagemaker amazon common library \n",
    "import io\n",
    "import sagemaker.amazon.common as smac\n",
    "\n",
    "# create in-memory byte array for training set, write into it, reset the buffer after every write\n",
    "buffer = io.BytesIO()\n",
    "smac.write_numpy_to_dense_tensor(buffer, X_train, y_train)\n",
    "buffer.seek(0)"
   ]
  },
  {
   "cell_type": "code",
   "execution_count": null,
   "id": "4c82ee4d-993d-4ae7-a4ce-15c81ca9b1ad",
   "metadata": {},
   "outputs": [],
   "source": [
    "# RecordIO input must be stored in S3\n",
    "\n",
    "import os\n",
    "\n",
    "key = 'training-data'\n",
    "\n",
    "# Upload the training data with RecordIO format in S3\n",
    "boto3.resource('s3').Bucket(bucket).Object(os.path.join(prefix, 'train', key)).upload_fileobj(buffer)\n",
    "\n",
    "# S3 location where the training sata has been saved\n",
    "s3_train_data = 's3://{}/{}/train/{}'.format(bucket, prefix, key)\n",
    "print(s3_train_data)"
   ]
  },
  {
   "cell_type": "code",
   "execution_count": null,
   "id": "460de963-1fa0-4de2-bcc6-4b8f7441c240",
   "metadata": {
    "tags": []
   },
   "outputs": [],
   "source": [
    "X_test.shape"
   ]
  },
  {
   "cell_type": "code",
   "execution_count": null,
   "id": "39d63dd3-9893-437e-903d-d5f096dfa82e",
   "metadata": {},
   "outputs": [],
   "source": [
    "# convert y_test into vector\n",
    "y_test = y_test[:,0]"
   ]
  },
  {
   "cell_type": "code",
   "execution_count": null,
   "id": "7d08ecff-4c7c-4e86-8733-974692ff6410",
   "metadata": {},
   "outputs": [],
   "source": [
    "y_test.shape"
   ]
  },
  {
   "cell_type": "code",
   "execution_count": null,
   "id": "11a66fa6-2a6b-456b-ae45-bae53fad5035",
   "metadata": {},
   "outputs": [],
   "source": [
    "# create in-memory byte array for test set, write into it, reset the buffer after every write\n",
    "\n",
    "import io\n",
    "\n",
    "buffer = io.BytesIO()\n",
    "smac.write_numpy_to_dense_tensor(buffer, X_test, y_test)\n",
    "buffer.seek(0)"
   ]
  },
  {
   "cell_type": "code",
   "execution_count": null,
   "id": "be4a1113-1e29-4903-b869-8335d4f39816",
   "metadata": {},
   "outputs": [],
   "source": [
    "import os\n",
    "\n",
    "key = 'test-data'\n",
    "\n",
    "# Upload the test data with RecordIO format in S3\n",
    "boto3.resource('s3').Bucket(bucket).Object(os.path.join(prefix, 'test', key)).upload_fileobj(buffer)\n",
    "\n",
    "# S3 location where the training sata has been saved\n",
    "s3_test_data = 's3://{}/test/{}'.format(bucket, key)\n",
    "print(s3_test_data)"
   ]
  },
  {
   "cell_type": "code",
   "execution_count": null,
   "id": "1d8a8850-b5d3-4f74-9c79-06551dc97284",
   "metadata": {},
   "outputs": [],
   "source": [
    "# create an output placeholder in S3 bucket to store the linear learner output\n",
    "output_location = 's3://{}/{}'.format(bucket, prefix)\n",
    "\n",
    "# print output location in S3\n",
    "print('output location is {}'.format(output_location))"
   ]
  },
  {
   "cell_type": "code",
   "execution_count": null,
   "id": "7069b485-8e17-415a-986b-a151d9ef3670",
   "metadata": {},
   "outputs": [],
   "source": [
    "# Load the built-in ML algorthm container of sagemaker \n",
    "\n",
    "from sagemaker import image_uris\n",
    "sagemaker_container = sagemaker.image_uris.retrieve(\"linear-learner\", boto3.Session().region_name)"
   ]
  },
  {
   "cell_type": "code",
   "execution_count": null,
   "id": "8de42336-3a0b-4bc7-b182-58907d38a3fb",
   "metadata": {},
   "outputs": [],
   "source": [
    "sagemaker_container"
   ]
  },
  {
   "cell_type": "code",
   "execution_count": null,
   "id": "6f1b77f5-f334-4253-9774-bf78bd899438",
   "metadata": {},
   "outputs": [],
   "source": [
    "# use_spot_instances, max_run, max_wait are the parameters that can be removed. They are added to train the model on spot instances instead of on demand instances.\n",
    "# Using spot instances reduce the cost tremendously however spot instances can be claime d by AWS at any time and should not be used for critical tasks.\n",
    "linear = sagemaker.estimator.Estimator(sagemaker_container,\n",
    "                                       sagemaker_role,\n",
    "                                       instance_count = 1,\n",
    "                                       instance_type = 'ml.c4.xlarge',\n",
    "                                       output_path = output_location,\n",
    "                                       sagemaker_session = sagemaker_session,\n",
    "                                       use_spot_instances = True,\n",
    "                                       max_run = 300,\n",
    "                                       max_wait = 600)\n",
    "\n",
    "linear.set_hyperparameters(feature_dim = 1,\n",
    "                           predictor_type = 'regressor',\n",
    "                           mini_batch_size = 5,\n",
    "                           epochs = 50,\n",
    "                           num_models = 32,\n",
    "                           loss = 'absolute_loss')\n",
    "\n",
    "linear.fit({'train': s3_train_data})"
   ]
  },
  {
   "cell_type": "code",
   "execution_count": null,
   "id": "358e4f6f-94ce-40e4-bd10-824cc9f7c56b",
   "metadata": {},
   "outputs": [],
   "source": [
    "# Deploy the model to provide end point\n",
    "# After runnig this cell you have to wait until you see ! then the deployment is completed ------------!\n",
    "linear_regressor = linear.deploy(initial_instance_count = 1, instance_type = 'ml.m4.xlarge')"
   ]
  },
  {
   "cell_type": "code",
   "execution_count": null,
   "id": "af4ef4d6-2afe-42de-aae9-9986a66e3ed6",
   "metadata": {},
   "outputs": [],
   "source": [
    "from sagemaker.predictor import csv_serializer, json_deserializer\n",
    "\n",
    "#linear_regressor.content_type = 'text/csv'\n",
    "linear_regressor.serializer = sagemaker.serializers.CSVSerializer()\n",
    "linear_regressor.deserializer = sagemaker.deserializers.JSONDeserializer()"
   ]
  },
  {
   "cell_type": "code",
   "execution_count": null,
   "id": "6976e106-0b07-4279-8bac-74cf52a91c1e",
   "metadata": {},
   "outputs": [],
   "source": [
    "result = linear_regressor.predict(X_test)"
   ]
  },
  {
   "cell_type": "code",
   "execution_count": null,
   "id": "69348559-0381-4138-9709-2de2c331d273",
   "metadata": {},
   "outputs": [],
   "source": [
    "result"
   ]
  },
  {
   "cell_type": "code",
   "execution_count": null,
   "id": "50603116-025a-4576-a9e1-2f8c129004f4",
   "metadata": {},
   "outputs": [],
   "source": [
    "prediction = np.array([r['score'] for r in result['predictions']])"
   ]
  },
  {
   "cell_type": "code",
   "execution_count": null,
   "id": "f0a915a4-5d78-404a-a5b7-a0e01451b08a",
   "metadata": {},
   "outputs": [],
   "source": [
    "plt.scatter(X_test, y_test, color = \"gray\")\n",
    "plt.plot(X_test, prediction, color = \"blue\")\n",
    "plt.title('Salary Vs. Years of experience')\n",
    "plt.xlabel('Years of experience')\n",
    "plt.ylabel('Salary')\n",
    "plt.show()"
   ]
  },
  {
   "cell_type": "markdown",
   "id": "01bbb17a-49ee-46c8-9eba-c465b2f1d1e5",
   "metadata": {},
   "source": [
    "# SECTION 5: DO NOT FORGET TO DELETE THE ENDPOINT. IT COSTS YOU WHEN IT IT UP AND RUNNING"
   ]
  },
  {
   "cell_type": "code",
   "execution_count": null,
   "id": "02ca316b-0f6b-4170-8bd0-7febd14eed41",
   "metadata": {},
   "outputs": [],
   "source": [
    "linear_regressor.delete_endpoint()"
   ]
  },
  {
   "cell_type": "code",
   "execution_count": null,
   "id": "4f172c49-01d7-4f81-b3ff-2ddab0493249",
   "metadata": {},
   "outputs": [],
   "source": []
  }
 ],
 "metadata": {
  "instance_type": "ml.t3.medium",
  "kernelspec": {
   "display_name": "Python 3 (Base Python)",
   "language": "python",
   "name": "python3__SAGEMAKER_INTERNAL__arn:aws:sagemaker:us-east-1:081325390199:image/python-3.6"
  },
  "language_info": {
   "codemirror_mode": {
    "name": "ipython",
    "version": 3
   },
   "file_extension": ".py",
   "mimetype": "text/x-python",
   "name": "python",
   "nbconvert_exporter": "python",
   "pygments_lexer": "ipython3",
   "version": "3.6.13"
  }
 },
 "nbformat": 4,
 "nbformat_minor": 5
}
